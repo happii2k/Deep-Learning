{
  "nbformat": 4,
  "nbformat_minor": 0,
  "metadata": {
    "colab": {
      "provenance": []
    },
    "kernelspec": {
      "name": "python3",
      "display_name": "Python 3"
    },
    "language_info": {
      "name": "python"
    }
  },
  "cells": [
    {
      "cell_type": "markdown",
      "source": [
        "## What is TensorFlow 2.0, and how is it different from TensorFlow 1.x2\n",
        "TensorFlow 2.0 is an improved version of TensorFlow 1.x with eager execution enabled by default, making it more intuitive and Pythonic.\n",
        "\n",
        "It simplifies APIs, integrates tightly with Keras for easier model building, and removes redundant or deprecated APIs from 1.x.\n",
        "\n",
        "TensorFlow 2.0 emphasizes ease of use, clearer error messages, and better model deployment capabilities.\n",
        "\n",
        "## How do you install TensorFlow 2.02\n",
        "Install TensorFlow 2.0 using pip:\n",
        "```\n",
        "pip install tensorflow\n",
        "```\n",
        "\n",
        "## What is the primary function of the tf.function in TensorFlow 2.02\n",
        "tf.function converts a Python function into a TensorFlow graph for performance optimization by compiling it.\n",
        "\n",
        "This decorator allows TensorFlow to execute the function faster by leveraging graph execution rather than eager execution.\n",
        "\n",
        "##  What is the purpose of the Model class in TensorFlow 2.02\n",
        "The Model class in TensorFlow 2.0, especially under Keras, provides a way to define and train neural networks.\n",
        "\n",
        "It allows encapsulating layers into a model, handling training, evaluation, and inference smoothly.\n",
        "\n",
        "##  How do you create a neural network using TensorFlow 2.02\n",
        "Neural networks can be created using the Keras API with either Sequential or Functional styles. Example of a simple Sequential model:\n",
        "\n",
        "```\n",
        "import tensorflow as tf\n",
        "model = tf.keras.Sequential([\n",
        "    tf.keras.layers.Dense(128, activation='relu', input_shape=(input_dim,)),\n",
        "    tf.keras.layers.Dense(num_classes, activation='softmax')\n",
        "])\n",
        "model.compile(optimizer='adam', loss='sparse_categorical_crossentropy', metrics=['accuracy'])\n",
        "```\n",
        "\n",
        "## What is the importance of Tensor Space in TensorFlow2\n",
        "Tensor Space refers to the underlying multi-dimensional array structure (tensors) that TensorFlow operates on.\n",
        "\n",
        "Efficient tensor operations and manipulation form the core of TensorFlow’s capabilities.\n",
        "\n",
        "## How can TensorBoard be integrated with TensorFlow 2.02\n",
        "TensorBoard Integration with TensorFlow 2.0\n",
        "TensorBoard is integrated to visualize training metrics, graphs, and other model information.\n",
        "\n",
        "It can be set up by passing a TensorBoard callback during model training:\n",
        "\n",
        "```\n",
        "tensorboard_callback = tf.keras.callbacks.TensorBoard(log_dir=\"logs/\")\n",
        "model.fit(x_train, y_train, epochs=5, callbacks=[tensorboard_callback])\n",
        "```\n",
        "\n",
        "## What is the purpose of TensorFlow Playground\n",
        "Purpose of TensorFlow Playground\n",
        "TensorFlow Playground is an interactive web-based tool to experiment with simple neural networks visually.\n",
        "\n",
        "It helps users learn and understand neural network behavior without programming.\n",
        "\n",
        "## What is Neutron, and how is it useful for deep learning models\n",
        "Netron is a model visualization tool for deep learning models.\n",
        "\n",
        "It can display architectures of TensorFlow, PyTorch, ONNX, and other model formats.\n",
        "## What is the difference between TensorFlow and PyTorch2\n",
        "TensorFlow 2.0 uses eager execution by default; PyTorch has dynamic computation graphs (eager by default) which is intuitive for Python programmers.\n",
        "\n",
        "TensorFlow integrates tightly with Keras and supports more production deployment options.\n",
        "\n",
        "PyTorch is popular for research and prototyping due to its simplicity and flexibility.\n",
        "## How do you install PyTorch\n",
        "PyTorch can be installed via pip or conda, with instructions based on the user’s system and CUDA availability from the official PyTorch site.\n",
        "Example:\n",
        "\n",
        "```\n",
        "pip install torch torchvision torchaudio\n",
        "```\n",
        "##  What is the basic structure of a PyTorch neural network\n",
        "```\n",
        "import torch.nn as nn\n",
        "\n",
        "class SimpleNN(nn.Module):\n",
        "    def __init__(self):\n",
        "        super(SimpleNN, self).__init__()\n",
        "        self.fc1 = nn.Linear(input_dim, 128)\n",
        "        self.relu = nn.ReLU()\n",
        "        self.fc2 = nn.Linear(128, num_classes)\n",
        "    \n",
        "    def forward(self, x):\n",
        "        x = self.relu(self.fc1(x))\n",
        "        x = self.fc2(x)\n",
        "        return x\n",
        "```\n",
        "## What is the significance of tensors in PyTorch\n",
        "Tensors are the base data structure in PyTorch representing multi-dimensional arrays on CPU or GPU.\n",
        "\n",
        "They support auto-differentiation for gradient calculations essential in training.\n",
        "\n",
        "\n",
        "\n",
        "## What is the difference between torch.Tensor and torch.cuda.Tensor in PyTorch2\n",
        "torch.Tensor is a CPU tensor.\n",
        "\n",
        "torch.cuda.Tensor resides on the GPU for accelerated computation.\n",
        "\n",
        "## What is the purpose of the torch.optim module in PyTorch2\n",
        "Provides optimization algorithms (like SGD, Adam) to update model weights during training.\n",
        "\n",
        "## What are some common activation functions used in neural networks2\n",
        "Common Activation Functions in Neural Networks\n",
        "ReLU, Sigmoid, Tanh, Softmax\n",
        "\n",
        "## What is the difference between torch.nn.Module and torch.nn.Sequential in PyTorch2\n",
        "\n",
        "Difference Between torch.nn.Module and torch.nn.Sequential\n",
        "Module is a base class for all neural network modules, allowing flexible model building.\n",
        "\n",
        "Sequential is a container for modules arranged in a linear stack.\n",
        "## How can you monitor training progress in TensorFlow 2.02\n",
        "Use TensorBoard callback during training.\n",
        "\n",
        "Alternatively, visualize losses and metrics using Matplotlib.\n",
        "\n",
        "## How does the Keras API fit into TensorFlow 2.02\n",
        "Keras is the high-level API integrated into TensorFlow, offering model building, training, and evaluation utilities\n",
        "## What is an example of a deep learning project that can be implemented using TensorFlow 2.02\n",
        "Example Deep Learning Project Using TensorFlow 2.0\n",
        "A simple image classification model on the MNIST dataset using Keras Sequential API\n",
        "## What is the main advantage of using pre-trained models in TensorFlow and PyTorch?\n",
        "Advantage of Using Pre-trained Models in TensorFlow and PyTorch\n",
        "Pre-trained models save time and resources by leveraging knowledge learned on large datasets.\n",
        "\n",
        "They improve performance on smaller datasets via transfer learning.\n"
      ],
      "metadata": {
        "id": "E0OQwnnnsgyE"
      }
    },
    {
      "cell_type": "code",
      "execution_count": 2,
      "metadata": {
        "colab": {
          "base_uri": "https://localhost:8080/"
        },
        "id": "kA5glbDCi2sm",
        "outputId": "81f4cbb3-cc2a-4140-e286-ff49cead59dc"
      },
      "outputs": [
        {
          "output_type": "stream",
          "name": "stdout",
          "text": [
            "2.19.0\n"
          ]
        }
      ],
      "source": [
        "import tensorflow as tf\n",
        "print(tf.__version__)"
      ]
    },
    {
      "cell_type": "code",
      "source": [
        "@tf.function()\n",
        "def add(a , b):\n",
        "  return a+b\n",
        "result  = add(5,6)\n",
        "print(result.numpy())"
      ],
      "metadata": {
        "colab": {
          "base_uri": "https://localhost:8080/"
        },
        "id": "Vs4wZyHnxkJ5",
        "outputId": "0dd19aef-8ad2-43ed-f931-433a9bce5f64"
      },
      "execution_count": 3,
      "outputs": [
        {
          "output_type": "stream",
          "name": "stdout",
          "text": [
            "11\n"
          ]
        }
      ]
    },
    {
      "cell_type": "code",
      "source": [
        "model = tf.keras.Sequential([\n",
        "    tf.keras.layers.Dense(16 , activation='relu' , input_shape = (8,)),\n",
        "    tf.keras.layers.Dense(1 , activation='sigmoid')\n",
        "])\n",
        "model.compile(optimizer = 'adam' , loss =  'binary_crossentropy' , metrics = ['accuracy'] )"
      ],
      "metadata": {
        "colab": {
          "base_uri": "https://localhost:8080/"
        },
        "id": "D5eCzAg0zVg1",
        "outputId": "a7e4dfa1-3f0b-4a5f-a976-3a89f41ac3d1"
      },
      "execution_count": 5,
      "outputs": [
        {
          "output_type": "stream",
          "name": "stderr",
          "text": [
            "/usr/local/lib/python3.12/dist-packages/keras/src/layers/core/dense.py:93: UserWarning: Do not pass an `input_shape`/`input_dim` argument to a layer. When using Sequential models, prefer using an `Input(shape)` object as the first layer in the model instead.\n",
            "  super().__init__(activity_regularizer=activity_regularizer, **kwargs)\n"
          ]
        }
      ]
    },
    {
      "cell_type": "code",
      "metadata": {
        "colab": {
          "base_uri": "https://localhost:8080/"
        },
        "id": "c0640b44",
        "outputId": "f83848bc-7b48-4b4d-a019-7f1fb8bbbcc6"
      },
      "source": [
        "import numpy as np\n",
        "from sklearn.model_selection import train_test_split\n",
        "\n",
        "# Generate some dummy data (replace with your actual data loading)\n",
        "X = np.random.rand(100, 8)  # 100 samples, 8 features\n",
        "y = np.random.randint(0, 2, 100) # 100 binary labels\n",
        "\n",
        "# Split the data into training and validation sets\n",
        "X_train, X_val, y_train, y_val = train_test_split(X, y, test_size=0.2, random_state=42)\n",
        "\n",
        "print(\"X_train shape:\", X_train.shape)\n",
        "print(\"y_train shape:\", y_train.shape)\n",
        "print(\"X_val shape:\", X_val.shape)\n",
        "print(\"y_val shape:\", y_val.shape)"
      ],
      "execution_count": 7,
      "outputs": [
        {
          "output_type": "stream",
          "name": "stdout",
          "text": [
            "X_train shape: (80, 8)\n",
            "y_train shape: (80,)\n",
            "X_val shape: (20, 8)\n",
            "y_val shape: (20,)\n"
          ]
        }
      ]
    },
    {
      "cell_type": "code",
      "source": [
        "import matplotlib.pyplot as plt\n",
        "\n",
        "history = model.fit(X_train, y_train, epochs=10, validation_data=(X_val, y_val))\n",
        "plt.plot(history.history['loss'], label='loss')\n",
        "plt.plot(history.history['val_loss'], label='validation loss')\n",
        "plt.xlabel('Epoch')\n",
        "plt.ylabel('Loss')\n",
        "plt.legend()\n",
        "plt.show()\n"
      ],
      "metadata": {
        "colab": {
          "base_uri": "https://localhost:8080/",
          "height": 796
        },
        "id": "bKam_KrD2TH0",
        "outputId": "f479d8f5-4b26-4cd7-c770-49bb18edfc60"
      },
      "execution_count": 8,
      "outputs": [
        {
          "output_type": "stream",
          "name": "stdout",
          "text": [
            "Epoch 1/10\n",
            "\u001b[1m3/3\u001b[0m \u001b[32m━━━━━━━━━━━━━━━━━━━━\u001b[0m\u001b[37m\u001b[0m \u001b[1m1s\u001b[0m 126ms/step - accuracy: 0.5867 - loss: 0.6710 - val_accuracy: 0.5000 - val_loss: 0.6699\n",
            "Epoch 2/10\n",
            "\u001b[1m3/3\u001b[0m \u001b[32m━━━━━━━━━━━━━━━━━━━━\u001b[0m\u001b[37m\u001b[0m \u001b[1m0s\u001b[0m 40ms/step - accuracy: 0.6102 - loss: 0.6643 - val_accuracy: 0.5500 - val_loss: 0.6663\n",
            "Epoch 3/10\n",
            "\u001b[1m3/3\u001b[0m \u001b[32m━━━━━━━━━━━━━━━━━━━━\u001b[0m\u001b[37m\u001b[0m \u001b[1m0s\u001b[0m 38ms/step - accuracy: 0.6203 - loss: 0.6663 - val_accuracy: 0.6000 - val_loss: 0.6638\n",
            "Epoch 4/10\n",
            "\u001b[1m3/3\u001b[0m \u001b[32m━━━━━━━━━━━━━━━━━━━━\u001b[0m\u001b[37m\u001b[0m \u001b[1m0s\u001b[0m 37ms/step - accuracy: 0.6273 - loss: 0.6691 - val_accuracy: 0.6000 - val_loss: 0.6620\n",
            "Epoch 5/10\n",
            "\u001b[1m3/3\u001b[0m \u001b[32m━━━━━━━━━━━━━━━━━━━━\u001b[0m\u001b[37m\u001b[0m \u001b[1m0s\u001b[0m 38ms/step - accuracy: 0.7070 - loss: 0.6646 - val_accuracy: 0.6500 - val_loss: 0.6612\n",
            "Epoch 6/10\n",
            "\u001b[1m3/3\u001b[0m \u001b[32m━━━━━━━━━━━━━━━━━━━━\u001b[0m\u001b[37m\u001b[0m \u001b[1m0s\u001b[0m 39ms/step - accuracy: 0.6930 - loss: 0.6598 - val_accuracy: 0.7000 - val_loss: 0.6604\n",
            "Epoch 7/10\n",
            "\u001b[1m3/3\u001b[0m \u001b[32m━━━━━━━━━━━━━━━━━━━━\u001b[0m\u001b[37m\u001b[0m \u001b[1m0s\u001b[0m 40ms/step - accuracy: 0.6750 - loss: 0.6633 - val_accuracy: 0.7500 - val_loss: 0.6603\n",
            "Epoch 8/10\n",
            "\u001b[1m3/3\u001b[0m \u001b[32m━━━━━━━━━━━━━━━━━━━━\u001b[0m\u001b[37m\u001b[0m \u001b[1m0s\u001b[0m 37ms/step - accuracy: 0.6078 - loss: 0.6674 - val_accuracy: 0.7000 - val_loss: 0.6599\n",
            "Epoch 9/10\n",
            "\u001b[1m3/3\u001b[0m \u001b[32m━━━━━━━━━━━━━━━━━━━━\u001b[0m\u001b[37m\u001b[0m \u001b[1m0s\u001b[0m 40ms/step - accuracy: 0.6406 - loss: 0.6580 - val_accuracy: 0.7000 - val_loss: 0.6594\n",
            "Epoch 10/10\n",
            "\u001b[1m3/3\u001b[0m \u001b[32m━━━━━━━━━━━━━━━━━━━━\u001b[0m\u001b[37m\u001b[0m \u001b[1m0s\u001b[0m 37ms/step - accuracy: 0.6156 - loss: 0.6599 - val_accuracy: 0.7000 - val_loss: 0.6594\n"
          ]
        },
        {
          "output_type": "display_data",
          "data": {
            "text/plain": [
              "<Figure size 640x480 with 1 Axes>"
            ],
            "image/png": "[encoded data removed]"
          },
          "metadata": {}
        }
      ]
    },
    {
      "cell_type": "code",
      "source": [
        "#! pip install torch torchvision\n",
        "import torch\n",
        "print(torch.__version__)\n",
        "print(torch.cuda.is_available())  # True if GPU is available\n"
      ],
      "metadata": {
        "colab": {
          "base_uri": "https://localhost:8080/"
        },
        "id": "HgKpv46280I0",
        "outputId": "598c7d49-1e44-4fbf-f46b-99e648a2ab5b"
      },
      "execution_count": 11,
      "outputs": [
        {
          "output_type": "stream",
          "name": "stdout",
          "text": [
            "2.8.0+cu126\n",
            "False\n"
          ]
        }
      ]
    },
    {
      "cell_type": "code",
      "source": [
        "import torch.nn as nn\n",
        "\n",
        "class Net(nn.Module):\n",
        "    def __init__(self):\n",
        "        super(Net, self).__init__()\n",
        "        self.fc1 = nn.Linear(8 , 16)\n",
        "        self.ReLu=nn.ReLU()\n",
        "        self.fc2 = nn.Linear(16 , 1)\n",
        "        self.sigmoid = nn.Sigmoid()\n",
        "    def forward(self , x):\n",
        "        x = self.fc1(x)\n",
        "        x = self.ReLu(x)\n",
        "        x = self.fc2(x)\n",
        "        x = self.sigmoid(x)\n",
        "        return x\n",
        "model = Net()"
      ],
      "metadata": {
        "id": "1grtaVCe9FFd"
      },
      "execution_count": 13,
      "outputs": []
    },
    {
      "cell_type": "code",
      "source": [
        "import torch.optim as optim\n",
        "\n",
        "criterion = nn.BCELoss()  # Binary Cross Entropy Loss\n",
        "optimizer = optim.Adam(model.parameters(), lr=0.001)\n"
      ],
      "metadata": {
        "id": "0KcNsi3x9u_N"
      },
      "execution_count": 14,
      "outputs": []
    },
    {
      "cell_type": "code",
      "source": [
        "def custom_mse_loss(output, target):\n",
        "    return torch.mean((output - target) ** 2)\n",
        "\n",
        "# Usage in a training loop\n",
        "# loss = custom_mse_loss(predictions, targets)\n"
      ],
      "metadata": {
        "id": "kenG8rpU-A2L"
      },
      "execution_count": 16,
      "outputs": []
    },
    {
      "cell_type": "code",
      "source": [
        "torch.save(model.state_dict(), 'my_model.pth')"
      ],
      "metadata": {
        "id": "0NGuhXpt-IRW"
      },
      "execution_count": 18,
      "outputs": []
    }
  ]
}